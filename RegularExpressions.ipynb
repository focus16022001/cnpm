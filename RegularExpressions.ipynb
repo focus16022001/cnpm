{
  "nbformat": 4,
  "nbformat_minor": 0,
  "metadata": {
    "colab": {
      "provenance": [],
      "authorship_tag": "ABX9TyNZ0WeA9zxXDLe80ffJxTzo",
      "include_colab_link": true
    },
    "kernelspec": {
      "name": "python3",
      "display_name": "Python 3"
    },
    "language_info": {
      "name": "python"
    }
  },
  "cells": [
    {
      "cell_type": "markdown",
      "metadata": {
        "id": "view-in-github",
        "colab_type": "text"
      },
      "source": [
        "<a href=\"https://colab.research.google.com/github/focus16022001/cnpm/blob/main/RegularExpressions.ipynb\" target=\"_parent\"><img src=\"https://colab.research.google.com/assets/colab-badge.svg\" alt=\"Open In Colab\"/></a>"
      ]
    },
    {
      "cell_type": "code",
      "execution_count": 2,
      "metadata": {
        "id": "-duIIPo1EBTU"
      },
      "outputs": [],
      "source": [
        "# module \"re\" regular expressions\n",
        "import re"
      ]
    },
    {
      "cell_type": "markdown",
      "source": [
        "CÁC PHƯƠNG THỨC CỦA REGULAR EXPRESSIONS\n",
        "\n",
        "1.   re.match()\n",
        "2.   re.search()\n",
        "3.   re.findall()\n",
        "4.   re.split()\n",
        "5.   re.sub()\n",
        "6.   re.compile()\n",
        "\n",
        "\n",
        "\n",
        "\n",
        "\n"
      ],
      "metadata": {
        "id": "Dpv-TruiEquI"
      }
    },
    {
      "cell_type": "code",
      "source": [
        "# re.match(pattern, string): tim ket qua khop o dau chuoi\n",
        "result = re.match(r'AV', 'AV Analytics Vidhya')\n",
        "print('\\n', result)\n",
        "\n",
        "results = re.match(r'AV', 'AV Analytics Vidhya AV')\n",
        "print ('\\nMatching string :',results.group(0))\n",
        "\n",
        "print(result.start())\n",
        "print(result.end())"
      ],
      "metadata": {
        "colab": {
          "base_uri": "https://localhost:8080/"
        },
        "id": "var0U0fcEw3n",
        "outputId": "6e9d5bc7-d217-411d-c8fb-150494837218"
      },
      "execution_count": null,
      "outputs": [
        {
          "output_type": "stream",
          "name": "stdout",
          "text": [
            "\n",
            " <re.Match object; span=(0, 2), match='AV'>\n",
            "\n",
            "Matching string : AV\n",
            "0\n",
            "2\n"
          ]
        }
      ]
    },
    {
      "cell_type": "code",
      "source": [
        "#re.search(pattern, string): tuong tu re.match: khong han che tim thay kq\n",
        "result = re.search(r'Analytics', 'AV Analytics Vidhya AV Analytics')\n",
        "print(result)"
      ],
      "metadata": {
        "colab": {
          "base_uri": "https://localhost:8080/"
        },
        "id": "h8CcjMY4HAIq",
        "outputId": "dc63ad24-cf41-457c-ea64-b4dbdae2723d"
      },
      "execution_count": null,
      "outputs": [
        {
          "output_type": "stream",
          "name": "stdout",
          "text": [
            "<re.Match object; span=(3, 12), match='Analytics'>\n"
          ]
        }
      ]
    },
    {
      "cell_type": "code",
      "source": [
        "# re.findall(parttern, string): hoat dong giong nhu ca 2: re.match va re.search\n",
        "#tra ve het cac ket qua tim duoc\n",
        "result = re.findall(r'AV', 'AV Analytics Vidhya AV')\n",
        "print(results)"
      ],
      "metadata": {
        "colab": {
          "base_uri": "https://localhost:8080/"
        },
        "id": "Tpa1LNFSIGTK",
        "outputId": "7e5e55f1-767d-409e-9b29-d2dee2027942"
      },
      "execution_count": null,
      "outputs": [
        {
          "output_type": "stream",
          "name": "stdout",
          "text": [
            "<re.Match object; span=(0, 2), match='AV'>\n"
          ]
        }
      ]
    },
    {
      "cell_type": "code",
      "source": [
        "#re.split(): phan chia chuoi theo cac lan xuat hien\n",
        "result = re.split(r'y','Analytics')\n",
        "result\n"
      ],
      "metadata": {
        "colab": {
          "base_uri": "https://localhost:8080/"
        },
        "id": "ksXJrrjBJbOM",
        "outputId": "131bf6b1-fb20-49db-ce4c-10add02e477f"
      },
      "execution_count": null,
      "outputs": [
        {
          "output_type": "execute_result",
          "data": {
            "text/plain": [
              "['Anal', 'tics']"
            ]
          },
          "metadata": {},
          "execution_count": 19
        }
      ]
    },
    {
      "cell_type": "code",
      "source": [
        "#re.sub(pattern, repl, string): tim kiem va thay the bang moi\n",
        "result = re.sub(r'anh', 'chong', 'anh yeu em')\n",
        "result"
      ],
      "metadata": {
        "colab": {
          "base_uri": "https://localhost:8080/",
          "height": 36
        },
        "id": "IAzKgtP0KEZV",
        "outputId": "e983d0ea-bf49-4828-cef8-170150a39563"
      },
      "execution_count": null,
      "outputs": [
        {
          "output_type": "execute_result",
          "data": {
            "text/plain": [
              "'chong yeu em'"
            ],
            "application/vnd.google.colaboratory.intrinsic+json": {
              "type": "string"
            }
          },
          "metadata": {},
          "execution_count": 21
        }
      ]
    },
    {
      "cell_type": "code",
      "source": [
        "#re.compile(pattern, repl, string) \n",
        "pattern=re.compile('AV')\n",
        "result=pattern.findall('AV Analytics Vidhya AV')\n",
        "result\n",
        "result2=pattern.findall('AV is largest analytics community of India')\n",
        "result2"
      ],
      "metadata": {
        "colab": {
          "base_uri": "https://localhost:8080/"
        },
        "id": "xTfQNaUnKkXK",
        "outputId": "1a97dcb5-0b8b-4a00-ed5d-872eff53d7a3"
      },
      "execution_count": null,
      "outputs": [
        {
          "output_type": "execute_result",
          "data": {
            "text/plain": [
              "['AV']"
            ]
          },
          "metadata": {},
          "execution_count": 24
        }
      ]
    },
    {
      "cell_type": "markdown",
      "source": [
        "SOME Examples of Regular Expressions"
      ],
      "metadata": {
        "id": "O4dcdShJLz7x"
      }
    },
    {
      "cell_type": "markdown",
      "source": [
        "PROBLEM 1: RETURN THE FIRST WORD OF A GIVEN STRING\n"
      ],
      "metadata": {
        "id": "QLHcR5fZRU4o"
      }
    },
    {
      "cell_type": "code",
      "source": [
        "#problem1: extract each character use (\"\\w\")\n",
        "result = re.findall(r'\\w', 'a nho e rat nhieu')\n",
        "result"
      ],
      "metadata": {
        "colab": {
          "base_uri": "https://localhost:8080/"
        },
        "id": "orVvnPWML61t",
        "outputId": "250cfbbd-d002-42be-fd04-a9a08b3ecbdd"
      },
      "execution_count": null,
      "outputs": [
        {
          "output_type": "execute_result",
          "data": {
            "text/plain": [
              "['a', 'n', 'h', 'o', 'e', 'r', 'a', 't', 'n', 'h', 'i', 'e', 'u']"
            ]
          },
          "metadata": {},
          "execution_count": 25
        }
      ]
    },
    {
      "cell_type": "code",
      "source": [
        "#problem2: extract each word(use \"*\" or \"+\")\n",
        "result = re.findall(r'\\w*', 'anh nho em rat la nhieu')\n",
        "result"
      ],
      "metadata": {
        "colab": {
          "base_uri": "https://localhost:8080/"
        },
        "id": "Te_eJtRsMR3m",
        "outputId": "b8a54b2a-0f9e-4db0-b1c4-4bf7cce2bc77"
      },
      "execution_count": null,
      "outputs": [
        {
          "output_type": "execute_result",
          "data": {
            "text/plain": [
              "['anh', '', 'nho', '', 'em', '', 'rat', '', 'la', '', 'nhieu', '']"
            ]
          },
          "metadata": {},
          "execution_count": 28
        }
      ]
    },
    {
      "cell_type": "code",
      "source": [
        "result = re.findall(\"\\w+\",'anh nho em rat la nhieu')\n",
        "result\n",
        "# * cos khoangr trang"
      ],
      "metadata": {
        "colab": {
          "base_uri": "https://localhost:8080/"
        },
        "id": "TBEgnyvJM7Fp",
        "outputId": "3f22eced-7499-48a3-8b9a-1ad5e4037955"
      },
      "execution_count": null,
      "outputs": [
        {
          "output_type": "execute_result",
          "data": {
            "text/plain": [
              "['anh', 'nho', 'em', 'rat', 'la', 'nhieu']"
            ]
          },
          "metadata": {},
          "execution_count": 29
        }
      ]
    },
    {
      "cell_type": "code",
      "source": [
        "#problem3: extract each word(using \"^\")\n",
        "result=re.findall(r'^\\w+','AV is largest Analytics community of India AV')\n",
        "result"
      ],
      "metadata": {
        "colab": {
          "base_uri": "https://localhost:8080/"
        },
        "id": "WglogSVINVnk",
        "outputId": "3f97febc-6b1e-4fae-b242-3291112088f0"
      },
      "execution_count": null,
      "outputs": [
        {
          "output_type": "execute_result",
          "data": {
            "text/plain": [
              "['AV']"
            ]
          },
          "metadata": {},
          "execution_count": 32
        }
      ]
    },
    {
      "cell_type": "code",
      "source": [
        "a = re.findall(r'^\\w+', 'anh nho e rat la nhieu')\n",
        "a"
      ],
      "metadata": {
        "colab": {
          "base_uri": "https://localhost:8080/"
        },
        "id": "0nACNRPWN6Kd",
        "outputId": "5c428e47-ad6e-4c94-d734-cb79107679f3"
      },
      "execution_count": null,
      "outputs": [
        {
          "output_type": "execute_result",
          "data": {
            "text/plain": [
              "['anh']"
            ]
          },
          "metadata": {},
          "execution_count": 34
        }
      ]
    },
    {
      "cell_type": "code",
      "source": [
        "a = re.findall(r'\\w+$', 'anh nho e rat la nhieu')\n",
        "a\n",
        "# cuoi chuoi"
      ],
      "metadata": {
        "colab": {
          "base_uri": "https://localhost:8080/"
        },
        "id": "9ts1KvA6OI9V",
        "outputId": "691d597e-ffa0-49a1-e677-f7d3b2243016"
      },
      "execution_count": null,
      "outputs": [
        {
          "output_type": "execute_result",
          "data": {
            "text/plain": [
              "['nhieu']"
            ]
          },
          "metadata": {},
          "execution_count": 37
        }
      ]
    },
    {
      "cell_type": "markdown",
      "source": [
        "PROBLEM 2: RETURN THE FIRST TWO CHARACTER OF EACH WORD \n"
      ],
      "metadata": {
        "id": "Et2m0n1NRdX5"
      }
    },
    {
      "cell_type": "code",
      "source": [
        "#SOLUTION 1: Solution-1  Extract consecutive two characters of each word, excluding spaces (using “\\w“)\n",
        "result = re.findall(r'\\w\\w', 'tach hai tu')\n",
        "result"
      ],
      "metadata": {
        "colab": {
          "base_uri": "https://localhost:8080/"
        },
        "id": "quk3_w50Rml3",
        "outputId": "cda62ca2-b381-4c2f-c27f-f64dab2a7da1"
      },
      "execution_count": null,
      "outputs": [
        {
          "output_type": "execute_result",
          "data": {
            "text/plain": [
              "['ta', 'ch', 'ha', 'tu']"
            ]
          },
          "metadata": {},
          "execution_count": 39
        }
      ]
    },
    {
      "cell_type": "code",
      "source": [
        "#Solution-2  Extract consecutive two characters those available at start of word boundary (using “\\b“)\n",
        "result = re.findall(r'\\b\\w', 'av is largest analytics')\n",
        "result"
      ],
      "metadata": {
        "colab": {
          "base_uri": "https://localhost:8080/"
        },
        "id": "hPZHjoruSUf9",
        "outputId": "90d27af8-c911-402c-fda8-f38e319ab2b1"
      },
      "execution_count": null,
      "outputs": [
        {
          "output_type": "execute_result",
          "data": {
            "text/plain": [
              "['a', 'i', 'l', 'a']"
            ]
          },
          "metadata": {},
          "execution_count": 44
        }
      ]
    },
    {
      "cell_type": "markdown",
      "source": [
        "Problem 3: Return the domain type of given email-ids"
      ],
      "metadata": {
        "id": "JD-nZtBBTExJ"
      }
    },
    {
      "cell_type": "code",
      "source": [
        "#Solution-1  Extract all characters after “@”\n",
        "result = re.findall(r'@\\w+', 'abc.test@gmail.com')\n",
        "result"
      ],
      "metadata": {
        "colab": {
          "base_uri": "https://localhost:8080/"
        },
        "id": "0xPQgmIDTDyN",
        "outputId": "6eef8722-d62c-49ec-f2ed-04078f6b8cef"
      },
      "execution_count": null,
      "outputs": [
        {
          "output_type": "execute_result",
          "data": {
            "text/plain": [
              "['@gmail']"
            ]
          },
          "metadata": {},
          "execution_count": 46
        }
      ]
    },
    {
      "cell_type": "code",
      "source": [
        "# tren khong co .phia sau: .com\n",
        "result = re.findall(r'@\\w+.\\w+', 'abc.test@gmail.com')\n",
        "result"
      ],
      "metadata": {
        "colab": {
          "base_uri": "https://localhost:8080/"
        },
        "id": "eIVQXPyETq0I",
        "outputId": "e1da618d-4275-4874-80e0-bd34b218972c"
      },
      "execution_count": null,
      "outputs": [
        {
          "output_type": "execute_result",
          "data": {
            "text/plain": [
              "['@gmail.com']"
            ]
          },
          "metadata": {},
          "execution_count": 48
        }
      ]
    },
    {
      "cell_type": "code",
      "source": [
        "#Solution – 2 Extract only domain name using “( )”\n",
        "result=re.findall(r'@\\w+.(\\w+)','abc.test@gmail.com, xyz@test.in, test.first@analyticsvidhya.com, first.test@rest.biz')\n",
        "result"
      ],
      "metadata": {
        "colab": {
          "base_uri": "https://localhost:8080/"
        },
        "id": "eJleMcEzUJmq",
        "outputId": "623d248b-70bc-49db-8016-3566cfb15df8"
      },
      "execution_count": null,
      "outputs": [
        {
          "output_type": "execute_result",
          "data": {
            "text/plain": [
              "['com', 'in', 'com', 'biz']"
            ]
          },
          "metadata": {},
          "execution_count": 49
        }
      ]
    },
    {
      "cell_type": "markdown",
      "source": [
        "Problem 4: Return date from given string"
      ],
      "metadata": {
        "id": "wGBAIK83UT2Z"
      }
    },
    {
      "cell_type": "code",
      "source": [
        "result=re.findall(r'\\d{2}-\\d{2}-\\d{4}','Amit 34-3456 12-05-2007, XYZ 56-4532 11-11-2011, ABC 67-8945 12-01-2009')\n",
        "result\n"
      ],
      "metadata": {
        "colab": {
          "base_uri": "https://localhost:8080/"
        },
        "id": "13rLSb98UWTS",
        "outputId": "76558d6a-509e-4f6c-c402-245184f52c32"
      },
      "execution_count": null,
      "outputs": [
        {
          "output_type": "execute_result",
          "data": {
            "text/plain": [
              "['12-05-2007', '11-11-2011', '12-01-2009']"
            ]
          },
          "metadata": {},
          "execution_count": 51
        }
      ]
    },
    {
      "cell_type": "code",
      "source": [
        "# dung them () de trich xuat nam\n",
        "result=re.findall(r'\\d{2}-\\d{2}-(\\d{4})','Amit 34-3456 12-05-2007, XYZ 56-4532 11-11-2011, ABC 67-8945 12-01-2009')\n",
        "result\n"
      ],
      "metadata": {
        "colab": {
          "base_uri": "https://localhost:8080/"
        },
        "id": "51fna7_UVYVa",
        "outputId": "97a24610-e698-4f62-d6d6-8f00b2bf297a"
      },
      "execution_count": null,
      "outputs": [
        {
          "output_type": "execute_result",
          "data": {
            "text/plain": [
              "['2007', '2011', '2009']"
            ]
          },
          "metadata": {},
          "execution_count": 53
        }
      ]
    },
    {
      "cell_type": "markdown",
      "source": [
        "Problem 5: Return all words of a string those starts with vowel"
      ],
      "metadata": {
        "id": "-FOgSsfYVovi"
      }
    },
    {
      "cell_type": "code",
      "source": [
        "#solution1: Return each words\n",
        "result = re.findall(r'\\w+', 'AV is largest Analytics community of India')\n",
        "result"
      ],
      "metadata": {
        "colab": {
          "base_uri": "https://localhost:8080/"
        },
        "id": "RDF4zXAmZqhg",
        "outputId": "635626fb-8e19-48f4-81aa-e7865135ab9a"
      },
      "execution_count": 3,
      "outputs": [
        {
          "output_type": "execute_result",
          "data": {
            "text/plain": [
              "['AV', 'is', 'largest', 'Analytics', 'community', 'of', 'India']"
            ]
          },
          "metadata": {},
          "execution_count": 3
        }
      ]
    },
    {
      "cell_type": "code",
      "source": [
        "#Solution-2  Return words starts with alphabets (using [])\n",
        "result=re.findall(r'[aeiouAEIOU]\\w+','AV is largest Analytics community of India')\n",
        "result\n"
      ],
      "metadata": {
        "colab": {
          "base_uri": "https://localhost:8080/"
        },
        "id": "aIbQ0cM4bb-C",
        "outputId": "7ca2ad5a-376d-4954-c79b-5f634d290b32"
      },
      "execution_count": 5,
      "outputs": [
        {
          "output_type": "execute_result",
          "data": {
            "text/plain": [
              "['AV', 'is', 'argest', 'Analytics', 'ommunity', 'of', 'India']"
            ]
          },
          "metadata": {},
          "execution_count": 5
        }
      ]
    },
    {
      "cell_type": "code",
      "source": [
        "# drop argest and ommunity\n",
        "result=re.findall(r'\\b[aeiouAEIOU]\\w+','AV is largest Analytics community of India')\n",
        "result "
      ],
      "metadata": {
        "colab": {
          "base_uri": "https://localhost:8080/"
        },
        "id": "FweX6aGWbnN1",
        "outputId": "07ffd074-4065-49c0-adb1-21c9db64b539"
      },
      "execution_count": 6,
      "outputs": [
        {
          "output_type": "execute_result",
          "data": {
            "text/plain": [
              "['AV', 'is', 'Analytics', 'of', 'India']"
            ]
          },
          "metadata": {},
          "execution_count": 6
        }
      ]
    },
    {
      "cell_type": "markdown",
      "source": [
        "Problem 6: Validate a phone number (phone number must be of 10 digits and starts with 8 or 9) "
      ],
      "metadata": {
        "id": "Ei9M9-4Ob0On"
      }
    },
    {
      "cell_type": "code",
      "source": [
        "li=['9999999999','999999-999','99999x9999']\n",
        "for val in li:\n",
        " if re.match(r'[8-9]{1}[0-9]{9}',val) and len(val) == 10:\n",
        "     print('yes')\n",
        " else:\n",
        "     print('no')"
      ],
      "metadata": {
        "colab": {
          "base_uri": "https://localhost:8080/"
        },
        "id": "JVv_88DabwwM",
        "outputId": "60a18b59-6893-45e0-ed05-7d07e0ae30e7"
      },
      "execution_count": 7,
      "outputs": [
        {
          "output_type": "stream",
          "name": "stdout",
          "text": [
            "yes\n",
            "no\n",
            "no\n"
          ]
        }
      ]
    },
    {
      "cell_type": "markdown",
      "source": [
        "Problem 7: Split a string with multiple delimiters"
      ],
      "metadata": {
        "id": "5bskAUTAcq4i"
      }
    },
    {
      "cell_type": "code",
      "source": [
        "line = 'asdf fjdk;afed,fjek,asdf,foo' # String has multiple delimiters (\";\",\",\",\" \").\n",
        "result= re.split(r'[;,\\s]', line)\n",
        "result"
      ],
      "metadata": {
        "colab": {
          "base_uri": "https://localhost:8080/"
        },
        "id": "74zJR4_Zcr12",
        "outputId": "ec2c2b1f-9626-4dc7-956d-5343af40c594"
      },
      "execution_count": 8,
      "outputs": [
        {
          "output_type": "execute_result",
          "data": {
            "text/plain": [
              "['asdf', 'fjdk', 'afed', 'fjek', 'asdf', 'foo']"
            ]
          },
          "metadata": {},
          "execution_count": 8
        }
      ]
    },
    {
      "cell_type": "code",
      "source": [
        "line = 'asdf fjdk;afed,fjek,asdf,foo'\n",
        "result= re.sub(r'[;,\\s]',' ', line)\n",
        "result"
      ],
      "metadata": {
        "colab": {
          "base_uri": "https://localhost:8080/",
          "height": 36
        },
        "id": "RYX6iglQc2h2",
        "outputId": "a728d8a0-5634-47e7-9e5d-6cceca713ab8"
      },
      "execution_count": 9,
      "outputs": [
        {
          "output_type": "execute_result",
          "data": {
            "text/plain": [
              "'asdf fjdk afed fjek asdf foo'"
            ],
            "application/vnd.google.colaboratory.intrinsic+json": {
              "type": "string"
            }
          },
          "metadata": {},
          "execution_count": 9
        }
      ]
    },
    {
      "cell_type": "markdown",
      "source": [
        "Problem 8: Retrieve Information from HTML file"
      ],
      "metadata": {
        "id": "A1lhBDbtc8Py"
      }
    },
    {
      "cell_type": "code",
      "source": [
        "\"\"\"\n",
        "<tr align = \"center\"> <td> 1 </td> <td> Noah </td> <td> Emma </td> </tr>\n",
        "<tr align = \"center\"> <td> 2 </td> <td> Liam </td> <td> Olivia </td> </tr>\n",
        "<tr align = \"center\"> <td> 3 </td> <td> Thợ xây </td> <td> Sophia </td> </tr>\n",
        "<tr align = \"center\"> <td> 4 </td> <td> Jacob </td> <td> Isabella </td> </tr>\n",
        "<tr align = \"center\"> <td> 5 </td> <td> William </td> <td> Ava </td> </tr>\n",
        "<tr align = \"center\"> <td> 6 </td> <td> Ethan </td> <td> Mia </td> </tr>\n",
        "<tr align = \"center\"> <td> 7 </td> <td HTML> Michael </td> <td> Emily </td> </tr>\n",
        "\"\"\"\n",
        "result=re.findall(r'<td>\\w+</td>\\s<td>(\\w+)</td>\\s<td>(\\w+)</td>',str)\n",
        "result"
      ],
      "metadata": {
        "colab": {
          "base_uri": "https://localhost:8080/",
          "height": 356
        },
        "id": "S2a-HtNdc-sA",
        "outputId": "e1b289d5-d60a-400a-c724-2aeaefcdf005"
      },
      "execution_count": 11,
      "outputs": [
        {
          "output_type": "error",
          "ename": "TypeError",
          "evalue": "ignored",
          "traceback": [
            "\u001b[0;31m---------------------------------------------------------------------------\u001b[0m",
            "\u001b[0;31mTypeError\u001b[0m                                 Traceback (most recent call last)",
            "\u001b[0;32m<ipython-input-11-5fc448e878c8>\u001b[0m in \u001b[0;36m<module>\u001b[0;34m\u001b[0m\n\u001b[1;32m      8\u001b[0m \u001b[0;34m<\u001b[0m\u001b[0mtr\u001b[0m \u001b[0malign\u001b[0m \u001b[0;34m=\u001b[0m \u001b[0;34m\"center\"\u001b[0m\u001b[0;34m>\u001b[0m \u001b[0;34m<\u001b[0m\u001b[0mtd\u001b[0m\u001b[0;34m>\u001b[0m \u001b[0;36m7\u001b[0m \u001b[0;34m<\u001b[0m\u001b[0;34m/\u001b[0m\u001b[0mtd\u001b[0m\u001b[0;34m>\u001b[0m \u001b[0;34m<\u001b[0m\u001b[0mtd\u001b[0m \u001b[0mHTML\u001b[0m\u001b[0;34m>\u001b[0m \u001b[0mMichael\u001b[0m \u001b[0;34m<\u001b[0m\u001b[0;34m/\u001b[0m\u001b[0mtd\u001b[0m\u001b[0;34m>\u001b[0m \u001b[0;34m<\u001b[0m\u001b[0mtd\u001b[0m\u001b[0;34m>\u001b[0m \u001b[0mEmily\u001b[0m \u001b[0;34m<\u001b[0m\u001b[0;34m/\u001b[0m\u001b[0mtd\u001b[0m\u001b[0;34m>\u001b[0m \u001b[0;34m<\u001b[0m\u001b[0;34m/\u001b[0m\u001b[0mtr\u001b[0m\u001b[0;34m>\u001b[0m\u001b[0;34m\u001b[0m\u001b[0;34m\u001b[0m\u001b[0m\n\u001b[1;32m      9\u001b[0m \"\"\"\n\u001b[0;32m---> 10\u001b[0;31m \u001b[0mresult\u001b[0m\u001b[0;34m=\u001b[0m\u001b[0mre\u001b[0m\u001b[0;34m.\u001b[0m\u001b[0mfindall\u001b[0m\u001b[0;34m(\u001b[0m\u001b[0;34mr'<td>\\w+</td>\\s<td>(\\w+)</td>\\s<td>(\\w+)</td>'\u001b[0m\u001b[0;34m,\u001b[0m\u001b[0mstr\u001b[0m\u001b[0;34m)\u001b[0m\u001b[0;34m\u001b[0m\u001b[0;34m\u001b[0m\u001b[0m\n\u001b[0m\u001b[1;32m     11\u001b[0m \u001b[0mresult\u001b[0m\u001b[0;34m\u001b[0m\u001b[0;34m\u001b[0m\u001b[0m\n",
            "\u001b[0;32m/usr/lib/python3.7/re.py\u001b[0m in \u001b[0;36mfindall\u001b[0;34m(pattern, string, flags)\u001b[0m\n\u001b[1;32m    223\u001b[0m \u001b[0;34m\u001b[0m\u001b[0m\n\u001b[1;32m    224\u001b[0m     Empty matches are included in the result.\"\"\"\n\u001b[0;32m--> 225\u001b[0;31m     \u001b[0;32mreturn\u001b[0m \u001b[0m_compile\u001b[0m\u001b[0;34m(\u001b[0m\u001b[0mpattern\u001b[0m\u001b[0;34m,\u001b[0m \u001b[0mflags\u001b[0m\u001b[0;34m)\u001b[0m\u001b[0;34m.\u001b[0m\u001b[0mfindall\u001b[0m\u001b[0;34m(\u001b[0m\u001b[0mstring\u001b[0m\u001b[0;34m)\u001b[0m\u001b[0;34m\u001b[0m\u001b[0;34m\u001b[0m\u001b[0m\n\u001b[0m\u001b[1;32m    226\u001b[0m \u001b[0;34m\u001b[0m\u001b[0m\n\u001b[1;32m    227\u001b[0m \u001b[0;32mdef\u001b[0m \u001b[0mfinditer\u001b[0m\u001b[0;34m(\u001b[0m\u001b[0mpattern\u001b[0m\u001b[0;34m,\u001b[0m \u001b[0mstring\u001b[0m\u001b[0;34m,\u001b[0m \u001b[0mflags\u001b[0m\u001b[0;34m=\u001b[0m\u001b[0;36m0\u001b[0m\u001b[0;34m)\u001b[0m\u001b[0;34m:\u001b[0m\u001b[0;34m\u001b[0m\u001b[0;34m\u001b[0m\u001b[0m\n",
            "\u001b[0;31mTypeError\u001b[0m: expected string or bytes-like object"
          ]
        }
      ]
    }
  ]
}